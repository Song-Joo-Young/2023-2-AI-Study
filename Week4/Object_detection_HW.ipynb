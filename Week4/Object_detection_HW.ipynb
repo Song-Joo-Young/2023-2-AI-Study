{
  "cells": [
    {
      "cell_type": "markdown",
      "metadata": {
        "id": "GAWrm4Wd49NQ"
      },
      "source": [
        "# Object Detection 과제\n",
        "> 인공지능 스터디 네 번째 과제에 오신 것을 환영합니다! 강의를 들으면서 배운 다양한 지식들을 실습을 통해서 활용해 볼 시간을 가질 것입니다!"
      ]
    },
    {
      "cell_type": "markdown",
      "metadata": {
        "id": "PxqUU-2_49NU"
      },
      "source": [
        "🐙<br>\n",
        "이번 과제는 퀴즈로만 이루어져 있어요!"
      ]
    },
    {
      "cell_type": "markdown",
      "metadata": {
        "id": "sWiG0AB449NV"
      },
      "source": [
        "#### ❓ <font color='red'><b>[ 퀴즈 ]</b></font> Fast R-CNN (단일선택)\n",
        "```python\n",
        "r-cnn에서는 2000개의 Roi가 각각 cnn을 통과해야 했습니다.\n",
        "이 과정에서 많은 시간이 소요되었는데 이를 해결하기 위해 fast r-cnn에서 도입한 것으로 알맞은 것을 선택해 주세요.\n",
        "\n",
        "(1) 2000개의 roi중 500개만 cnn 통과하였다.\n",
        "(2) NMS\n",
        "(3) 먼저 입력 이미지를 cnn에 통과 시킨 후 pooling을 진행하였다.  \n",
        "(4) augmentation\n",
        "\n",
        "```\n"
      ]
    },
    {
      "cell_type": "markdown",
      "metadata": {
        "id": "rajNDF8E49NV"
      },
      "source": [
        "```python\n",
        "😉\n",
        "# TODO : 2번\n",
        "\n",
        "```"
      ]
    },
    {
      "cell_type": "markdown",
      "metadata": {
        "id": "C-dCuFNi49NW"
      },
      "source": [
        "#### ❓ <font color='red'><b>[ 퀴즈 ]</b></font> Fast R-CNN (단일선택)\n",
        "```python\n",
        "r-cnn에서는 selective search 알고리즘으로 뽑힌 roi가 cnn에 통과하기 위해 warping 과정을 거쳤습니다.\n",
        "이 과정에서 이미지가 일정한 크기로 조정되었는데 조정된 이미지는 원본 이미지와 다르기 때문에 성능 손실의 가능성이 있었습니다.\n",
        "이를 해결하기 위해 fast r-cnn에서 도입한 것으로 알맞은 것을 선택해 주세요.\n",
        "\n",
        "(1) box regressor\n",
        "(2) clustering\n",
        "(3) anchor box\n",
        "(4) roi pooling\n",
        "\n",
        "```"
      ]
    },
    {
      "cell_type": "markdown",
      "metadata": {
        "id": "atu1Nrrq49NW"
      },
      "source": [
        "```python\n",
        "😉\n",
        "# TODO : 4번\n",
        "\n",
        "```"
      ]
    },
    {
      "cell_type": "markdown",
      "metadata": {
        "id": "zsuKyLNb49NW"
      },
      "source": [
        "#### ❓ <font color='red'><b>[ 퀴즈 ]</b></font> Fast R-CNN (단일선택)\n",
        "```python\n",
        "r-cnn에서는 cnn, SVM classfier, bounding box regressor을 각각 따로 학습하여 사용했습니다.\n",
        "이 경우 학습의 효율성이 떨어진다는 단점이 있었습니다.\n",
        "이를 해결하기 위해 fast r-cnn에서 도입한 것으로 알맞은 것을 선택해 주세요.\n",
        "\n",
        "(1) classifier, bbox regressor를 모두 convolution network로 변경\n",
        "(2) classifier, bbox regressor를 모두 fully connected network로 변경\n",
        "(3) classifier, bbox regressor를 모두 SVM으로 변경\n",
        "(4) classifier, bbox regressor를 하나의 네트워크로 통합\n",
        "```"
      ]
    },
    {
      "cell_type": "markdown",
      "metadata": {
        "id": "AK3hF5Yd49NX"
      },
      "source": [
        "```python\n",
        "😉\n",
        "# TODO : 4번\n",
        "\n",
        "```"
      ]
    },
    {
      "cell_type": "markdown",
      "metadata": {
        "id": "ZVxVFuRw49NX"
      },
      "source": [
        "#### ❓ <font color='red'><b>[ 퀴즈 ]</b></font> Faster R-CNN (단일선택)\n",
        "```python\n",
        "fast r-cnn에서는 region proposal 단계에서 selective search 알고리즘을 사용했습니다.\n",
        "이 경우 추론 시에 시간이 오래 걸리고 계산 비용 또한 높다는 특징이 있었습니다.\n",
        "이를 해결하기 위해 faster r-cnn에서 도입한 것으로 알맞은 것을 선택해 주세요.\n",
        "\n",
        "(1) RPM\n",
        "(2) RPN\n",
        "(3) NMS\n",
        "(4) RNN\n",
        "```"
      ]
    },
    {
      "cell_type": "markdown",
      "metadata": {
        "id": "ZlZeKV4249NX"
      },
      "source": [
        "```python\n",
        "😉\n",
        "# TODO : 2번 RPN (Region Proposal Network)\n",
        "\n",
        "```"
      ]
    },
    {
      "cell_type": "markdown",
      "metadata": {
        "id": "vqv_yy5-49NY"
      },
      "source": [
        "#### ❓ <font color='red'><b>[ 퀴즈 ]</b></font> Faster R-CNN (단일선택)\n",
        "```python\n",
        "Faster R-CNN에서 앵커 박스(anchor boxes)의 주요 역할로 알맞은 것을 선택해 주세요.\n",
        "\n",
        "(1) 객체 검출 모델의 학습을 가속화하는 데 사용됩니다.\n",
        "(2) 객체 후보 영역을 생성하는 데 사용되며 여러 크기와 종횡비의 객체를 고려합니다.\n",
        "(3) 모델의 특성 맵에서 객체를 정확하게 분류하는 데 도움을 줍니다.\n",
        "(4) 객체 검출 모델의 학습을 효율적으로 수행하기 위한 하이퍼파라미터입니다.\n",
        "```"
      ]
    },
    {
      "cell_type": "markdown",
      "metadata": {
        "id": "GvyEx3HH49NY"
      },
      "source": [
        "```python\n",
        "😉\n",
        "# TODO : 2번\n",
        "```"
      ]
    },
    {
      "cell_type": "markdown",
      "metadata": {
        "id": "SslL7nji49NY"
      },
      "source": [
        "#### ❓ <font color='red'><b>[ 퀴즈 ]</b></font> Faster R-CNN (단일선택)\n",
        "```python\n",
        "Faster R-CNN에서 RPN(Region proposal network)의 주요 역할로 알맞은 것을 선택해 주세요.\n",
        "\n",
        "(1) 객체 검출로 나온 박스의 위치 조정을 수행합니다.\n",
        "(2) 모델의 학습 속도를 느리게 만드는 데 기여합니다.\n",
        "(3) 이미지 내의 객체를 분류하는 데 사용됩니다.\n",
        "(4) 객체 후보 영역을 생성하고 제안합니다.\n",
        "\n",
        "```"
      ]
    },
    {
      "cell_type": "markdown",
      "metadata": {
        "id": "0VdNcFbt49NY"
      },
      "source": [
        "```python\n",
        "😉\n",
        "# TODO : 4번\n",
        "\n",
        "```"
      ]
    },
    {
      "cell_type": "markdown",
      "metadata": {
        "id": "N5QxiyqB49NY"
      },
      "source": [
        "#### ❓ <font color='red'><b>[ 퀴즈 ]</b></font> R-CNN (단일선택)\n",
        "```python\n",
        "검출해야 하는 객체의 클래스 종류의 수가 20개일 때, r-cnn의 SVM classfier에서 사용되는 클래스의 수를 선택해 주세요.\n",
        "\n",
        "(1) 19\n",
        "(2) 20\n",
        "(3) 21\n",
        "(4) 22\n",
        "```"
      ]
    },
    {
      "cell_type": "markdown",
      "metadata": {
        "id": "EJiQTLim49NY"
      },
      "source": [
        "```python\n",
        "😉\n",
        "# TODO : 1번\n",
        "\n",
        "```"
      ]
    },
    {
      "cell_type": "markdown",
      "metadata": {
        "id": "NKcU3T8f49NY"
      },
      "source": [
        "#### ❓ <font color='red'><b>[ 퀴즈 ]</b></font> IOU (단일선택)\n",
        "```python\n",
        "IoU(Intersection over Union)는 두 가지 물체의 박스가 얼마나 일치하는지 수학적으로 나타내는 지표입니다.\n",
        "다음과 같이 계산합니다. IoU = A∩B/A∪B (A, B는 Bounding Box).\n",
        "이때 A와 B의 IoU를 구해 보기에서 선택해 주세요.\n",
        "```\n",
        "![iou](https://github.com/Pjunn/GDSC_mlstudy/blob/main/4%EC%A3%BC%EC%B0%A8/IOU_Rect.png?raw=true)\n",
        "```python\n",
        "(1) 1/5\n",
        "(2) 1/6\n",
        "(3) 1/7\n",
        "(4) 1/8\n",
        "```"
      ]
    },
    {
      "cell_type": "markdown",
      "metadata": {
        "id": "GTA4lt1549NY"
      },
      "source": [
        "```python\n",
        "😉\n",
        "# TODO : 4번\n",
        "\n",
        "```"
      ]
    },
    {
      "cell_type": "markdown",
      "metadata": {
        "id": "Q-zmGo4P49NY"
      },
      "source": [
        "### 🎉🎉🎉 4주차 과제 완료! 🎉🎉🎉\n",
        "```python\n",
        "🐙\n",
        "여러분 모두 수고 했어요!!\n",
        "```"
      ]
    }
  ],
  "metadata": {
    "colab": {
      "provenance": []
    },
    "kernelspec": {
      "display_name": "base",
      "language": "python",
      "name": "python3"
    },
    "language_info": {
      "codemirror_mode": {
        "name": "ipython",
        "version": 3
      },
      "file_extension": ".py",
      "mimetype": "text/x-python",
      "name": "python",
      "nbconvert_exporter": "python",
      "pygments_lexer": "ipython3",
      "version": "3.10.9"
    },
    "orig_nbformat": 4
  },
  "nbformat": 4,
  "nbformat_minor": 0
}
